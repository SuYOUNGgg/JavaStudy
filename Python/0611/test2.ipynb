{
 "cells": [
  {
   "cell_type": "code",
   "execution_count": 19,
   "metadata": {},
   "outputs": [
    {
     "output_type": "execute_result",
     "data": {
      "text/plain": "[('한국어', 'NNG'),\n ('분석', 'NNG'),\n ('을', 'JKO'),\n ('시작하', 'VV'),\n ('ㅂ니다', 'EFN'),\n ('재미있', 'VA'),\n ('어요', 'EFN'),\n ('~~', 'SW')]"
     },
     "metadata": {},
     "execution_count": 19
    }
   ],
   "source": [
    "from konlpy.tag import Kkma\n",
    "kkma = Kkma()\n",
    "\n",
    "kkma.sentences('한국어 분석을 시작합니다 재미있어요~~')\n",
    "\n",
    "kkma.nouns('한국어 분석을 시작합니다 재미있어요~~')\n",
    "\n",
    "kkma.pos('한국어 분석을 시작합니다 재미있어요~~')\n",
    "\n",
    "\n"
   ]
  },
  {
   "cell_type": "code",
   "execution_count": 4,
   "metadata": {},
   "outputs": [
    {
     "output_type": "execute_result",
     "data": {
      "text/plain": "[('한국어', 'Noun'),\n ('분석', 'Noun'),\n ('을', 'Josa'),\n ('시작', 'Noun'),\n ('합니다', 'Verb'),\n ('재미있어요', 'Adjective'),\n ('~~', 'Punctuation')]"
     },
     "metadata": {},
     "execution_count": 4
    }
   ],
   "source": [
    "from konlpy.tag import Hannanum\n",
    "hannanum = Hannanum()\n",
    "\n",
    "hannanum.nouns('한국어 분석을 시작합니다 재미있어요~~')\n",
    "hannanum.morphs('한국어 분석을 시작합니다 재미있어요~~')\n",
    "\n",
    "hannanum.pos('한국어 분석을 시작합니다 재미있어요~~')\n",
    "\n",
    "from konlpy.tag import Twitter\n",
    "t = Twitter()\n",
    "t.nouns('한국어 분석을 시작합니다 재미있어요~~')\n",
    "t.pos('한국어 분석을 시작합니다 재미있어요~~')"
   ]
  },
  {
   "cell_type": "code",
   "execution_count": null,
   "metadata": {},
   "outputs": [],
   "source": []
  }
 ],
 "metadata": {
  "language_info": {
   "codemirror_mode": {
    "name": "ipython",
    "version": 3
   },
   "file_extension": ".py",
   "mimetype": "text/x-python",
   "name": "python",
   "nbconvert_exporter": "python",
   "pygments_lexer": "ipython3",
   "version": "3.7.7-candidate"
  },
  "orig_nbformat": 2,
  "kernelspec": {
   "name": "python37764bit2511d1e8ab8e4cd7a0c3996662256c55",
   "display_name": "Python 3.7.7 64-bit"
  }
 },
 "nbformat": 4,
 "nbformat_minor": 2
}