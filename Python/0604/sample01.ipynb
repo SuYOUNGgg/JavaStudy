{
 "cells": [
  {
   "cell_type": "code",
   "execution_count": 10,
   "metadata": {
    "tags": [
     "outputPrepend"
    ]
   },
   "outputs": [
    {
     "output_type": "execute_result",
     "data": {
      "text/plain": "                                    addr        code        lat         lng  \\\n0                  충청남도 홍성군 갈산면 상촌로 12-1    34840559  36.602986  126.548911   \n1          대구광역시 달서구 달구벌대로 1736 1층 (두류동)    37844571  35.856678  128.555278   \n2                 충청남도 보령시 남대천로 58 (대천동)    34833323  36.348742  126.593534   \n3                  경상북도 고령군 쌍림면 대가야로 608  5038300744  35.679196  128.242253   \n4    부산광역시 금정구 서동로 168 송월빌딩 1층 102호 (서동)    21839824  35.214448  129.104775   \n..                                   ...         ...        ...         ...   \n482               경상남도 사천시 곤명면 경서대로 3401  6198200983  35.130253  127.976467   \n483             부산광역시 동래구 충렬대로 239 (수안동)    21824916  35.201646  129.085627   \n484             경기도 평택시 탄현로326번길 3 (지산동)    41840259  37.081243  127.056111   \n485             경기도 수원시 영통구 태장로 77 (망포동)    31831931  37.239322  127.054838   \n486  인천광역시 부평구 부평문화로 55 103호 (부평동, YD타워)    31834060  37.494291  126.722282   \n\n             name  \n0            신신약국  \n1         밝은온누리약국  \n2            지애약국  \n3         고령쌍림우체국  \n4           굿모닝약국  \n..            ...  \n482  곤명농협하나로마트완사점  \n483       수안메디컬약국  \n484          이화약국  \n485         푸른솔약국  \n486        포도나무약국  \n\n[487 rows x 5 columns]",
      "text/html": "<div>\n<style scoped>\n    .dataframe tbody tr th:only-of-type {\n        vertical-align: middle;\n    }\n\n    .dataframe tbody tr th {\n        vertical-align: top;\n    }\n\n    .dataframe thead th {\n        text-align: right;\n    }\n</style>\n<table border=\"1\" class=\"dataframe\">\n  <thead>\n    <tr style=\"text-align: right;\">\n      <th></th>\n      <th>addr</th>\n      <th>code</th>\n      <th>lat</th>\n      <th>lng</th>\n      <th>name</th>\n    </tr>\n  </thead>\n  <tbody>\n    <tr>\n      <th>0</th>\n      <td>충청남도 홍성군 갈산면 상촌로 12-1</td>\n      <td>34840559</td>\n      <td>36.602986</td>\n      <td>126.548911</td>\n      <td>신신약국</td>\n    </tr>\n    <tr>\n      <th>1</th>\n      <td>대구광역시 달서구 달구벌대로 1736 1층 (두류동)</td>\n      <td>37844571</td>\n      <td>35.856678</td>\n      <td>128.555278</td>\n      <td>밝은온누리약국</td>\n    </tr>\n    <tr>\n      <th>2</th>\n      <td>충청남도 보령시 남대천로 58 (대천동)</td>\n      <td>34833323</td>\n      <td>36.348742</td>\n      <td>126.593534</td>\n      <td>지애약국</td>\n    </tr>\n    <tr>\n      <th>3</th>\n      <td>경상북도 고령군 쌍림면 대가야로 608</td>\n      <td>5038300744</td>\n      <td>35.679196</td>\n      <td>128.242253</td>\n      <td>고령쌍림우체국</td>\n    </tr>\n    <tr>\n      <th>4</th>\n      <td>부산광역시 금정구 서동로 168 송월빌딩 1층 102호 (서동)</td>\n      <td>21839824</td>\n      <td>35.214448</td>\n      <td>129.104775</td>\n      <td>굿모닝약국</td>\n    </tr>\n    <tr>\n      <th>...</th>\n      <td>...</td>\n      <td>...</td>\n      <td>...</td>\n      <td>...</td>\n      <td>...</td>\n    </tr>\n    <tr>\n      <th>482</th>\n      <td>경상남도 사천시 곤명면 경서대로 3401</td>\n      <td>6198200983</td>\n      <td>35.130253</td>\n      <td>127.976467</td>\n      <td>곤명농협하나로마트완사점</td>\n    </tr>\n    <tr>\n      <th>483</th>\n      <td>부산광역시 동래구 충렬대로 239 (수안동)</td>\n      <td>21824916</td>\n      <td>35.201646</td>\n      <td>129.085627</td>\n      <td>수안메디컬약국</td>\n    </tr>\n    <tr>\n      <th>484</th>\n      <td>경기도 평택시 탄현로326번길 3 (지산동)</td>\n      <td>41840259</td>\n      <td>37.081243</td>\n      <td>127.056111</td>\n      <td>이화약국</td>\n    </tr>\n    <tr>\n      <th>485</th>\n      <td>경기도 수원시 영통구 태장로 77 (망포동)</td>\n      <td>31831931</td>\n      <td>37.239322</td>\n      <td>127.054838</td>\n      <td>푸른솔약국</td>\n    </tr>\n    <tr>\n      <th>486</th>\n      <td>인천광역시 부평구 부평문화로 55 103호 (부평동, YD타워)</td>\n      <td>31834060</td>\n      <td>37.494291</td>\n      <td>126.722282</td>\n      <td>포도나무약국</td>\n    </tr>\n  </tbody>\n</table>\n<p>487 rows × 5 columns</p>\n</div>"
     },
     "metadata": {},
     "execution_count": 10
    }
   ],
   "source": [
    "import numpy as np\n",
    "import pandas as pd\n",
    "import requests\n",
    "import json\n",
    "import folium\n",
    "url_stores = \"https://8oi9s0nnth.apigw.ntruss.com/corona19-masks/v1/stores/json\"\n",
    "url_sales = \"https://8oi9s0nnth.apigw.ntruss.com/corona19-masks/v1/sales/json?page=1\"\n",
    "json_stores = requests.get(url_stores).json()\n",
    "json_sales = requests.get(url_sales).json()\n",
    "data_stores = []\n",
    "size_stores = len(json_stores['storeInfos'])\n",
    "for inx in range(size_stores):\n",
    "    addr, code, lat, lng, name = json_stores['storeInfos'][inx]['addr'], json_stores['storeInfos'][inx]['code'],json_stores['storeInfos'][inx]['lat'],json_stores['storeInfos'][inx]['lng'],json_stores['storeInfos'][inx]['name']\n",
    "    data_stores.append([addr,code,lat,lng,name])\n",
    "df_stores = pd.DataFrame(data_stores,columns=['addr','code','lat','lng','name'])\n",
    "df_stores\n"
   ]
  },
  {
   "cell_type": "code",
   "execution_count": 28,
   "metadata": {},
   "outputs": [
    {
     "output_type": "stream",
     "name": "stdout",
     "text": "addr      code        lat         lng  \\\n0             대구광역시 남구 중앙대로29길 27 (대명동)  37811461  35.846002  128.588814   \n1               경기도 광명시 시청로 30 1층 (철산동)  31896359  37.479424  126.864114   \n2                   경기도 화성시 정남면 만년로 540  31863515  37.169471  126.983655   \n3  경상남도 창원시 의창구 원이대로 269 (봉곡동, 한빛메디칼센터)  38810859  35.243272  128.649791   \n4    경기도 화성시 동탄지성로 136 203호 (능동, 우리프라자)  41812816  37.209666  127.060701   \n5               경상남도 진주시 도동천로 113 (상대동)  38807955  35.181304  128.111897   \n6             대구광역시 수성구 수성로 329 (수성동1가)  37849182  35.854896  128.613387   \n\n     name remain_stat  \n0   대학당약국      plenty  \n1    이화약국      plenty  \n2  100세약국      plenty  \n3    예은약국      plenty  \n4  능동키즈약국      plenty  \n5    우인약국      plenty  \n6    두배약국        some  \n"
    },
    {
     "output_type": "execute_result",
     "data": {
      "text/plain": "<folium.folium.Map at 0x1f36485ddc8>",
      "text/html": "<div style=\"width:100%;\"><div style=\"position:relative;width:100%;height:0;padding-bottom:60%;\"><span style=\"color:#565656\">Make this Notebook Trusted to load map: File -> Trust Notebook</span><iframe src=\"about:blank\" style=\"position:absolute;width:100%;height:100%;left:0;top:0;border:none !important;\" data-html=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 onload=\"this.contentDocument.open();this.contentDocument.write(atob(this.getAttribute('data-html')));this.contentDocument.close();\" allowfullscreen webkitallowfullscreen mozallowfullscreen></iframe></div></div>"
     },
     "metadata": {},
     "execution_count": 28
    }
   ],
   "source": [
    "data_sales = []\n",
    "size_sales = len(json_sales['sales'])\n",
    "for inx in range(size_sales):\n",
    "    code, remain_stat = json_sales['sales'][inx]['code'], json_sales['sales'][inx]['remain_stat']\n",
    "    data_sales.append([code, remain_stat])\n",
    "    \n",
    "df_stores = pd.DataFrame(data_stores, columns = ['addr', 'code', 'lat', 'lng', 'name'])\n",
    "df_sales = pd.DataFrame(data_sales, columns=['code','remain_stat'])\n",
    "\n",
    "df = pd.merge(df_stores,df_sales, on=\"code\")\n",
    "print(df)\n",
    "\n",
    "mean_lat = df['lat'].mean()\n",
    "mean_lng = df['lng'].mean() \n",
    "\n",
    "\n",
    "\n",
    "mapping = folium.Map(location=[mean_lat, mean_lng], zoom_start=11)\n",
    "for inx in df.index:\n",
    "    folium.Marker([df['lat'][inx],df['lng'][inx]], popup=folium.Popup(df['addr'][inx])).add_to(mapping)\n",
    "\n",
    "mapping\n",
    "#mapping.save(\"test.html\")\n",
    "    "
   ]
  },
  {
   "cell_type": "code",
   "execution_count": null,
   "metadata": {},
   "outputs": [],
   "source": []
  },
  {
   "cell_type": "code",
   "execution_count": null,
   "metadata": {},
   "outputs": [],
   "source": []
  }
 ],
 "metadata": {
  "language_info": {
   "codemirror_mode": {
    "name": "ipython",
    "version": 3
   },
   "file_extension": ".py",
   "mimetype": "text/x-python",
   "name": "python",
   "nbconvert_exporter": "python",
   "pygments_lexer": "ipython3",
   "version": "3.7.7-candidate"
  },
  "orig_nbformat": 2,
  "kernelspec": {
   "name": "python37764bit2511d1e8ab8e4cd7a0c3996662256c55",
   "display_name": "Python 3.7.7 64-bit"
  }
 },
 "nbformat": 4,
 "nbformat_minor": 2
}