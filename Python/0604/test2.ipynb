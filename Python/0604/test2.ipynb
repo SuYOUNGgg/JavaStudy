{
 "cells": [
  {
   "cell_type": "code",
   "execution_count": 10,
   "metadata": {},
   "outputs": [
    {
     "output_type": "execute_result",
     "data": {
      "text/plain": "                col1      col2      col3\n2020-01-06       NaN       NaN       NaN\n2020-01-07       NaN       NaN       NaN\n2020-01-08 -0.644381 -0.548934 -2.970381\n2020-01-09 -1.963284  0.161928 -4.586319\n2020-01-10 -3.954165 -1.630955 -2.114459\n2020-01-11 -3.349551 -2.170348  0.199261\n2020-01-12 -2.289691 -1.906978  0.194971\n2020-01-13 -0.882759 -1.340402 -0.201231\n2020-01-14 -1.796226 -1.026313  1.014456\n2020-01-15 -0.365241 -2.054688  0.761732",
      "text/html": "<div>\n<style scoped>\n    .dataframe tbody tr th:only-of-type {\n        vertical-align: middle;\n    }\n\n    .dataframe tbody tr th {\n        vertical-align: top;\n    }\n\n    .dataframe thead th {\n        text-align: right;\n    }\n</style>\n<table border=\"1\" class=\"dataframe\">\n  <thead>\n    <tr style=\"text-align: right;\">\n      <th></th>\n      <th>col1</th>\n      <th>col2</th>\n      <th>col3</th>\n    </tr>\n  </thead>\n  <tbody>\n    <tr>\n      <th>2020-01-06</th>\n      <td>NaN</td>\n      <td>NaN</td>\n      <td>NaN</td>\n    </tr>\n    <tr>\n      <th>2020-01-07</th>\n      <td>NaN</td>\n      <td>NaN</td>\n      <td>NaN</td>\n    </tr>\n    <tr>\n      <th>2020-01-08</th>\n      <td>-0.644381</td>\n      <td>-0.548934</td>\n      <td>-2.970381</td>\n    </tr>\n    <tr>\n      <th>2020-01-09</th>\n      <td>-1.963284</td>\n      <td>0.161928</td>\n      <td>-4.586319</td>\n    </tr>\n    <tr>\n      <th>2020-01-10</th>\n      <td>-3.954165</td>\n      <td>-1.630955</td>\n      <td>-2.114459</td>\n    </tr>\n    <tr>\n      <th>2020-01-11</th>\n      <td>-3.349551</td>\n      <td>-2.170348</td>\n      <td>0.199261</td>\n    </tr>\n    <tr>\n      <th>2020-01-12</th>\n      <td>-2.289691</td>\n      <td>-1.906978</td>\n      <td>0.194971</td>\n    </tr>\n    <tr>\n      <th>2020-01-13</th>\n      <td>-0.882759</td>\n      <td>-1.340402</td>\n      <td>-0.201231</td>\n    </tr>\n    <tr>\n      <th>2020-01-14</th>\n      <td>-1.796226</td>\n      <td>-1.026313</td>\n      <td>1.014456</td>\n    </tr>\n    <tr>\n      <th>2020-01-15</th>\n      <td>-0.365241</td>\n      <td>-2.054688</td>\n      <td>0.761732</td>\n    </tr>\n  </tbody>\n</table>\n</div>"
     },
     "metadata": {},
     "execution_count": 10
    }
   ],
   "source": [
    "import numpy as np\n",
    "import pandas as pd\n",
    "\n",
    "df = pd.DataFrame(np.random.randn(10,3), index =pd.date_range('01/06/2020',periods=10), columns = ['col1','col2','col3'])\n",
    "#df.rolling(window=3).mean() #3개의 값을 합해서 평균(mean)을 내서 값으로 출력하는 것\n",
    "df\n",
    "df.rolling(window=3).sum()\n"
   ]
  },
  {
   "cell_type": "code",
   "execution_count": 32,
   "metadata": {},
   "outputs": [
    {
     "output_type": "execute_result",
     "data": {
      "text/plain": "     0\n2    1\n1    2\n0  300",
      "text/html": "<div>\n<style scoped>\n    .dataframe tbody tr th:only-of-type {\n        vertical-align: middle;\n    }\n\n    .dataframe tbody tr th {\n        vertical-align: top;\n    }\n\n    .dataframe thead th {\n        text-align: right;\n    }\n</style>\n<table border=\"1\" class=\"dataframe\">\n  <thead>\n    <tr style=\"text-align: right;\">\n      <th></th>\n      <th>0</th>\n    </tr>\n  </thead>\n  <tbody>\n    <tr>\n      <th>2</th>\n      <td>1</td>\n    </tr>\n    <tr>\n      <th>1</th>\n      <td>2</td>\n    </tr>\n    <tr>\n      <th>0</th>\n      <td>300</td>\n    </tr>\n  </tbody>\n</table>\n</div>"
     },
     "metadata": {},
     "execution_count": 32
    }
   ],
   "source": [
    "# df2 = pd.DataFrame([[1,2,3]])\n",
    "# df2\n",
    "# df3 = df2.iloc[:,:1]\n",
    "# df3\n",
    "# df3[0]=100\n",
    "# df3\n",
    "# df2\n",
    "\n",
    "# ds = pd.Series([1,2,3,4])\n",
    "# ds[0] =100\n",
    "# ds1 = ds[:1]\n",
    "# ds1[0] = 300\n",
    "# ds1\n",
    "df3 = pd.DataFrame([3,2,1])\n",
    "df3\n",
    "df4 = df3[:]\n",
    "df3.iloc[0] = 300\n",
    "df3\n",
    "df3.sort_values(by=[0], inplace = True)\n",
    "df3"
   ]
  },
  {
   "cell_type": "code",
   "execution_count": 46,
   "metadata": {},
   "outputs": [
    {
     "output_type": "execute_result",
     "data": {
      "text/plain": "0        pig\n1        cow\n2    chicken\n3        cow\n4        pig\nName: 0, dtype: object"
     },
     "metadata": {},
     "execution_count": 46
    }
   ],
   "source": [
    "list1 = [1,2,3,4,5]\n",
    "\n",
    "def add(x):\n",
    "    return x+10\n",
    "result1 = map(add, list1)\n",
    "list(result1)\n",
    "\n",
    "df5 = pd.DataFrame([[1,2],[3,4]], columns=['col1','col2'])\n",
    "df5['col1'].map(add)\n",
    "\n",
    "list2 = [1,2,3,2,1]\n",
    "df6 = pd.DataFrame(list2)\n",
    "df6\n",
    "kinds = {1:'pig', 2:'cow', 3: 'chicken'}\n",
    "kinds\n",
    "\n",
    "df6[0].map(lambda y: kinds[y]) #맵핑을 통해서 데이터 변경하기\n",
    "\n"
   ]
  },
  {
   "cell_type": "code",
   "execution_count": null,
   "metadata": {},
   "outputs": [],
   "source": []
  },
  {
   "cell_type": "code",
   "execution_count": null,
   "metadata": {},
   "outputs": [],
   "source": []
  }
 ],
 "metadata": {
  "language_info": {
   "codemirror_mode": {
    "name": "ipython",
    "version": 3
   },
   "file_extension": ".py",
   "mimetype": "text/x-python",
   "name": "python",
   "nbconvert_exporter": "python",
   "pygments_lexer": "ipython3",
   "version": "3.7.7-candidate"
  },
  "orig_nbformat": 2,
  "kernelspec": {
   "name": "python37764bit2511d1e8ab8e4cd7a0c3996662256c55",
   "display_name": "Python 3.7.7 64-bit"
  }
 },
 "nbformat": 4,
 "nbformat_minor": 2
}