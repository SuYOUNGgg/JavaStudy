{
 "cells": [
  {
   "cell_type": "code",
   "execution_count": 33,
   "metadata": {},
   "outputs": [
    {
     "output_type": "execute_result",
     "data": {
      "text/plain": "     1학기     2학기     \n      과학  수학  과학   수학\n강감찬   30  20  90   10\n권율    40  90  90  100\n이순신   80  30  50   40\n홍길동  100  10  30   20",
      "text/html": "<div>\n<style scoped>\n    .dataframe tbody tr th:only-of-type {\n        vertical-align: middle;\n    }\n\n    .dataframe tbody tr th {\n        vertical-align: top;\n    }\n\n    .dataframe thead tr th {\n        text-align: left;\n    }\n</style>\n<table border=\"1\" class=\"dataframe\">\n  <thead>\n    <tr>\n      <th></th>\n      <th colspan=\"2\" halign=\"left\">1학기</th>\n      <th colspan=\"2\" halign=\"left\">2학기</th>\n    </tr>\n    <tr>\n      <th></th>\n      <th>과학</th>\n      <th>수학</th>\n      <th>과학</th>\n      <th>수학</th>\n    </tr>\n  </thead>\n  <tbody>\n    <tr>\n      <th>강감찬</th>\n      <td>30</td>\n      <td>20</td>\n      <td>90</td>\n      <td>10</td>\n    </tr>\n    <tr>\n      <th>권율</th>\n      <td>40</td>\n      <td>90</td>\n      <td>90</td>\n      <td>100</td>\n    </tr>\n    <tr>\n      <th>이순신</th>\n      <td>80</td>\n      <td>30</td>\n      <td>50</td>\n      <td>40</td>\n    </tr>\n    <tr>\n      <th>홍길동</th>\n      <td>100</td>\n      <td>10</td>\n      <td>30</td>\n      <td>20</td>\n    </tr>\n  </tbody>\n</table>\n</div>"
     },
     "metadata": {},
     "execution_count": 33
    }
   ],
   "source": [
    "import numpy as np\n",
    "import pandas as pd\n",
    "\n",
    "df = pd.DataFrame([1,2,3,4,5,6,7,8,9], index =[['a','a','a','b','b','c','c','d','d'],[1,2,3,1,3,1,2,2,3]])\n",
    "df.loc['a']\n",
    "df.loc['b']\n",
    "df.loc['a',1]\n",
    "df.index\n",
    "df.loc[['a','b']]\n",
    "df\n",
    "df2 = df.unstack\n",
    "df2\n",
    "\n",
    "#!pip install xlrd\n",
    "\n",
    "df5 = pd.read_excel('score.xlsx', header=0, index_col=0, sheet_name=\"Sheet2\")\n",
    "df5.stack().unstack()\n",
    "df6 = pd.read_excel(\"score.xlsx\", header=[0,1], index_col=0,sheet_name=\"Sheet1\")\n",
    "df6.stack(level=1).unstack() "
   ]
  },
  {
   "cell_type": "code",
   "execution_count": null,
   "metadata": {},
   "outputs": [],
   "source": []
  },
  {
   "cell_type": "code",
   "execution_count": null,
   "metadata": {},
   "outputs": [],
   "source": []
  }
 ],
 "metadata": {
  "language_info": {
   "codemirror_mode": {
    "name": "ipython",
    "version": 3
   },
   "file_extension": ".py",
   "mimetype": "text/x-python",
   "name": "python",
   "nbconvert_exporter": "python",
   "pygments_lexer": "ipython3",
   "version": "3.7.7-candidate"
  },
  "orig_nbformat": 2,
  "kernelspec": {
   "name": "python37764bit2511d1e8ab8e4cd7a0c3996662256c55",
   "display_name": "Python 3.7.7 64-bit"
  }
 },
 "nbformat": 4,
 "nbformat_minor": 2
}