{
 "cells": [
  {
   "cell_type": "code",
   "execution_count": 3,
   "metadata": {},
   "outputs": [
    {
     "output_type": "execute_result",
     "data": {
      "text/plain": "   id_x name_x subject_id  id_y name_y\n0   1.0      a       sub1   NaN    NaN\n1   2.0      b       sub2   1.0     a1\n2   3.0      c       sub4   2.0     b1\n3   4.0      d       sub5   5.0     e1\n4   5.0      e       sub6   4.0     d1\n5   NaN    NaN       sub3   3.0     c1",
      "text/html": "<div>\n<style scoped>\n    .dataframe tbody tr th:only-of-type {\n        vertical-align: middle;\n    }\n\n    .dataframe tbody tr th {\n        vertical-align: top;\n    }\n\n    .dataframe thead th {\n        text-align: right;\n    }\n</style>\n<table border=\"1\" class=\"dataframe\">\n  <thead>\n    <tr style=\"text-align: right;\">\n      <th></th>\n      <th>id_x</th>\n      <th>name_x</th>\n      <th>subject_id</th>\n      <th>id_y</th>\n      <th>name_y</th>\n    </tr>\n  </thead>\n  <tbody>\n    <tr>\n      <th>0</th>\n      <td>1.0</td>\n      <td>a</td>\n      <td>sub1</td>\n      <td>NaN</td>\n      <td>NaN</td>\n    </tr>\n    <tr>\n      <th>1</th>\n      <td>2.0</td>\n      <td>b</td>\n      <td>sub2</td>\n      <td>1.0</td>\n      <td>a1</td>\n    </tr>\n    <tr>\n      <th>2</th>\n      <td>3.0</td>\n      <td>c</td>\n      <td>sub4</td>\n      <td>2.0</td>\n      <td>b1</td>\n    </tr>\n    <tr>\n      <th>3</th>\n      <td>4.0</td>\n      <td>d</td>\n      <td>sub5</td>\n      <td>5.0</td>\n      <td>e1</td>\n    </tr>\n    <tr>\n      <th>4</th>\n      <td>5.0</td>\n      <td>e</td>\n      <td>sub6</td>\n      <td>4.0</td>\n      <td>d1</td>\n    </tr>\n    <tr>\n      <th>5</th>\n      <td>NaN</td>\n      <td>NaN</td>\n      <td>sub3</td>\n      <td>3.0</td>\n      <td>c1</td>\n    </tr>\n  </tbody>\n</table>\n</div>"
     },
     "metadata": {},
     "execution_count": 3
    }
   ],
   "source": [
    "import numpy as np\n",
    "import pandas as pd\n",
    "\n",
    "left = pd.DataFrame({\n",
    "    'id':[1,2,3,4,5],\n",
    "    'name':['a','b','c','d','e'],\n",
    "    'subject_id' : ['sub1','sub2','sub4','sub5','sub6']\n",
    "})\n",
    "right = pd.DataFrame({\n",
    "    'id':[1,2,3,4,5],\n",
    "    'name' :['a1','b1','c1','d1','e1'],\n",
    "    'subject_id' : ['sub2','sub4','sub3','sub6','sub5']\n",
    "})\n",
    "#df = pd.merge(left,right, on=\"id\")\n",
    "df = pd.merge(left,right, on=\"subject_id\", how = \"outer\")\n",
    "#how인자: left(왼쪽조인: 왼쪽의 모든 로우를 포함하는 결과), right(오른쪽조인 :오른쪽의 모든 로우를 포함하는 결과), outer(외부조인:합집합 결과 반환)\n",
    "df"
   ]
  },
  {
   "cell_type": "code",
   "execution_count": null,
   "metadata": {},
   "outputs": [],
   "source": []
  },
  {
   "cell_type": "code",
   "execution_count": null,
   "metadata": {},
   "outputs": [],
   "source": []
  }
 ],
 "metadata": {
  "language_info": {
   "codemirror_mode": {
    "name": "ipython",
    "version": 3
   },
   "file_extension": ".py",
   "mimetype": "text/x-python",
   "name": "python",
   "nbconvert_exporter": "python",
   "pygments_lexer": "ipython3",
   "version": "3.7.7-candidate"
  },
  "orig_nbformat": 2,
  "kernelspec": {
   "name": "python37764bit2511d1e8ab8e4cd7a0c3996662256c55",
   "display_name": "Python 3.7.7 64-bit"
  }
 },
 "nbformat": 4,
 "nbformat_minor": 2
}