{
 "cells": [
  {
   "cell_type": "code",
   "execution_count": null,
   "metadata": {},
   "outputs": [],
   "source": [
    "from selenium import webdriver\n",
    "from selenium.webdriver.support.ui import WebDriverWait\n",
    "driver = webdriver.Chrome(\"20200610/chromedriver.exe\")\n",
    "driver.get(\"https://www.naver.com/\")\n",
    "# driver.find_element_by_id(\"query\").send_keys(\"안녕하세요\")\n",
    "# driver.find_element_by_id(\"search_btn\").click()\n",
    "# driver.find_elements_by_class_name(\"link_login\").click()\n",
    "driver.find_element_by_xpath('//*[@id=\"account\"]/a').click()\n",
    "\n",
    "\n",
    "# driver.find_element_by_xpath(\"//*[@id='tsf']/div[2]/div[1]/div[1]/div/div[2]/input\").send_keys(\"안녕하세요\")\n",
    "# WebDriverWait(driver, 1)\n",
    "# driver.find_element_by_xpath(\"//*[@id='tsf']/div[2]/div[1]/div[3]/center/input[1]\").click()"
   ]
  },
  {
   "cell_type": "code",
   "execution_count": null,
   "metadata": {},
   "outputs": [],
   "source": []
  }
 ],
 "metadata": {
  "language_info": {
   "codemirror_mode": {
    "name": "ipython",
    "version": 3
   },
   "file_extension": ".py",
   "mimetype": "text/x-python",
   "name": "python",
   "nbconvert_exporter": "python",
   "pygments_lexer": "ipython3",
   "version": "3.7.7-candidate"
  },
  "orig_nbformat": 2,
  "kernelspec": {
   "name": "python37764bit2511d1e8ab8e4cd7a0c3996662256c55",
   "display_name": "Python 3.7.7 64-bit"
  }
 },
 "nbformat": 4,
 "nbformat_minor": 2
}