{
 "cells": [
  {
   "cell_type": "code",
   "execution_count": 142,
   "metadata": {},
   "outputs": [
    {
     "output_type": "execute_result",
     "data": {
      "text/plain": "   col1  col2\na  10.0   2.0\nb  11.0   4.0\nc  12.0   2.0",
      "text/html": "<div>\n<style scoped>\n    .dataframe tbody tr th:only-of-type {\n        vertical-align: middle;\n    }\n\n    .dataframe tbody tr th {\n        vertical-align: top;\n    }\n\n    .dataframe thead th {\n        text-align: right;\n    }\n</style>\n<table border=\"1\" class=\"dataframe\">\n  <thead>\n    <tr style=\"text-align: right;\">\n      <th></th>\n      <th>col1</th>\n      <th>col2</th>\n    </tr>\n  </thead>\n  <tbody>\n    <tr>\n      <th>a</th>\n      <td>10.0</td>\n      <td>2.0</td>\n    </tr>\n    <tr>\n      <th>b</th>\n      <td>11.0</td>\n      <td>4.0</td>\n    </tr>\n    <tr>\n      <th>c</th>\n      <td>12.0</td>\n      <td>2.0</td>\n    </tr>\n  </tbody>\n</table>\n</div>"
     },
     "metadata": {},
     "execution_count": 142
    }
   ],
   "source": [
    "import numpy as np\n",
    "import pandas as pd\n",
    "\n",
    "#df = pd.read_csv(\"student.csv\", sep=\",\", header=0, skiprows=1)\n",
    "df = pd.read_csv(\"student.csv\", sep=\",\", header=None, skiprows=1, names =['col1','col2','col3','col4','col5','col6','col7'],index_col='col6') \n",
    "#여기서는 columns가 아니라 names\n",
    "df\n",
    "\n",
    "df2 = pd.DataFrame([[10,2],[11,4],[12,2],[13,4],[14,2],[15,4]], columns = ['col1','col2'],index=['a','b','c','d','e','f'])\n",
    "df3 = df2.reindex(['a','a1','b','b1','c','c1'])\n",
    "#NaN(Not a Number)\n",
    "df3['col1'].isnull()\n",
    "df3.isnull()\n",
    "df3['col1'].fillna(0)\n",
    "df3.fillna(0)\n",
    "df3.fillna(method='pad')\n",
    "df3.dropna()"
   ]
  },
  {
   "cell_type": "code",
   "execution_count": null,
   "metadata": {},
   "outputs": [],
   "source": []
  }
 ],
 "metadata": {
  "language_info": {
   "codemirror_mode": {
    "name": "ipython",
    "version": 3
   },
   "file_extension": ".py",
   "mimetype": "text/x-python",
   "name": "python",
   "nbconvert_exporter": "python",
   "pygments_lexer": "ipython3",
   "version": "3.7.7-candidate"
  },
  "orig_nbformat": 2,
  "kernelspec": {
   "name": "python37764bit2511d1e8ab8e4cd7a0c3996662256c55",
   "display_name": "Python 3.7.7 64-bit"
  }
 },
 "nbformat": 4,
 "nbformat_minor": 2
}