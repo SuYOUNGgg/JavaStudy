{
 "cells": [
  {
   "cell_type": "code",
   "execution_count": 100,
   "metadata": {},
   "outputs": [
    {
     "output_type": "execute_result",
     "data": {
      "text/plain": "1    2\nName: col1, dtype: int64"
     },
     "metadata": {},
     "execution_count": 100
    }
   ],
   "source": [
    "import numpy as np\n",
    "import pandas as pd\n",
    "\n",
    "df = pd.DataFrame([[1,2,3,3,4,5],[1,2,2,3,5,6]], columns=['col1','col2','col3','col4','col5','col6'])\n",
    "df.shape\n",
    "df['col1'].unique()\n",
    "df['col1'].value_counts()"
   ]
  },
  {
   "cell_type": "code",
   "execution_count": null,
   "metadata": {},
   "outputs": [],
   "source": []
  },
  {
   "cell_type": "code",
   "execution_count": null,
   "metadata": {},
   "outputs": [],
   "source": []
  }
 ],
 "metadata": {
  "language_info": {
   "codemirror_mode": {
    "name": "ipython",
    "version": 3
   },
   "file_extension": ".py",
   "mimetype": "text/x-python",
   "name": "python",
   "nbconvert_exporter": "python",
   "pygments_lexer": "ipython3",
   "version": "3.7.7-candidate"
  },
  "orig_nbformat": 2,
  "kernelspec": {
   "name": "python37764bit2511d1e8ab8e4cd7a0c3996662256c55",
   "display_name": "Python 3.7.7 64-bit"
  }
 },
 "nbformat": 4,
 "nbformat_minor": 2
}