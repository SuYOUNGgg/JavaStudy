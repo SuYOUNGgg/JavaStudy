{
 "cells": [
  {
   "cell_type": "code",
   "execution_count": 5,
   "metadata": {},
   "outputs": [
    {
     "output_type": "execute_result",
     "data": {
      "text/plain": "       col1      col2\na  0.589177  0.215956\nb  0.737880  0.736164",
      "text/html": "<div>\n<style scoped>\n    .dataframe tbody tr th:only-of-type {\n        vertical-align: middle;\n    }\n\n    .dataframe tbody tr th {\n        vertical-align: top;\n    }\n\n    .dataframe thead th {\n        text-align: right;\n    }\n</style>\n<table border=\"1\" class=\"dataframe\">\n  <thead>\n    <tr style=\"text-align: right;\">\n      <th></th>\n      <th>col1</th>\n      <th>col2</th>\n    </tr>\n  </thead>\n  <tbody>\n    <tr>\n      <th>a</th>\n      <td>0.589177</td>\n      <td>0.215956</td>\n    </tr>\n    <tr>\n      <th>b</th>\n      <td>0.737880</td>\n      <td>0.736164</td>\n    </tr>\n  </tbody>\n</table>\n</div>"
     },
     "metadata": {},
     "execution_count": 5
    }
   ],
   "source": [
    "#java, python, html, css, javascript, database, statistics, numpy...\n",
    "#spring, mvc, design pattern\n",
    "#machine learing, skt-learn, deep-learning, cloud\n",
    "import numpy as np\n",
    "import pandas as pd\n",
    "\n",
    "df = pd.DataFrame(np.random.randn(6,4), index = ['a','b','c','d','e','f'], columns = ['col1','col2','col3','col4'])\n",
    "df\n",
    "df.loc[:,['col1','col4']]\n",
    "df.loc['a']>0\n",
    "df.iloc[0:2,0:2]\n"
   ]
  },
  {
   "cell_type": "code",
   "execution_count": null,
   "metadata": {},
   "outputs": [],
   "source": []
  }
 ],
 "metadata": {
  "language_info": {
   "codemirror_mode": {
    "name": "ipython",
    "version": 3
   },
   "file_extension": ".py",
   "mimetype": "text/x-python",
   "name": "python",
   "nbconvert_exporter": "python",
   "pygments_lexer": "ipython3",
   "version": "3.7.7-candidate"
  },
  "orig_nbformat": 2,
  "kernelspec": {
   "name": "python37764bit2511d1e8ab8e4cd7a0c3996662256c55",
   "display_name": "Python 3.7.7 64-bit"
  }
 },
 "nbformat": 4,
 "nbformat_minor": 2
}