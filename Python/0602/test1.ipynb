{
 "cells": [
  {
   "cell_type": "code",
   "execution_count": 23,
   "metadata": {},
   "outputs": [
    {
     "output_type": "execute_result",
     "data": {
      "text/plain": "3    test3\n1     test\n4      NaN\ndtype: object"
     },
     "metadata": {},
     "execution_count": 23
    }
   ],
   "source": [
    "import pandas as pd\n",
    "import numpy as np\n",
    "s = pd.Series()\n",
    "s\n",
    "data = pd.Series([1,2,3,4])\n",
    "data\n",
    "data2 = pd.Series(['a','b','c','d'])\n",
    "data2\n",
    "data3 = pd.Series(['a','b','c','d'],index=[100,110,120,130])\n",
    "data3\n",
    "a = np.array([1,2,3,4])\n",
    "a\n",
    "data4 = pd.Series(a, index=[10,20,30,40])\n",
    "data4\n",
    "dict1 = {1:'test', 2: 'test2', 3: 'test3'}\n",
    "data5 = pd.Series(dict1)\n",
    "data5\n",
    "data6 = pd.Series(dict1, index=[3,1,4])\n",
    "data6\n"
   ]
  },
  {
   "cell_type": "code",
   "execution_count": 25,
   "metadata": {},
   "outputs": [
    {
     "output_type": "execute_result",
     "data": {
      "text/plain": "2"
     },
     "metadata": {},
     "execution_count": 25
    }
   ],
   "source": [
    "data7 = pd.Series(5, index=[1,2,3,4,5,6])\n",
    "data7\n",
    "data8 = pd.Series([1,2,3,4,5,6])\n",
    "data8[0]\n",
    "data8[:3]\n",
    "data8 = pd.Series([1,2,3,4,5,6], index=['a','b','c','d','e','f'])\n",
    "data8['a']\n",
    "data9 = pd.Series([2,3,4,5])\n",
    "data9[0]"
   ]
  },
  {
   "cell_type": "code",
   "execution_count": null,
   "metadata": {},
   "outputs": [],
   "source": []
  }
 ],
 "metadata": {
  "language_info": {
   "codemirror_mode": {
    "name": "ipython",
    "version": 3
   },
   "file_extension": ".py",
   "mimetype": "text/x-python",
   "name": "python",
   "nbconvert_exporter": "python",
   "pygments_lexer": "ipython3",
   "version": "3.7.7-candidate"
  },
  "orig_nbformat": 2,
  "kernelspec": {
   "name": "python37764bit2511d1e8ab8e4cd7a0c3996662256c55",
   "display_name": "Python 3.7.7 64-bit"
  }
 },
 "nbformat": 4,
 "nbformat_minor": 2
}