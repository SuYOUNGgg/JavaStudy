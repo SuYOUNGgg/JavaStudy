{
 "cells": [
  {
   "cell_type": "code",
   "execution_count": 2,
   "metadata": {},
   "outputs": [
    {
     "output_type": "execute_result",
     "data": {
      "text/plain": "2"
     },
     "metadata": {},
     "execution_count": 2
    }
   ],
   "source": [
    "import numpy as np\n",
    "import pandas as pd\n",
    "\n",
    "data = [1,2,3,4,6]\n",
    "df = pd.DataFrame(data)\n",
    "df.ndim\n",
    "sf = pd.Series(data)\n",
    "sf.ndim\n",
    "sf.axes\n",
    "sf.size\n",
    "sf.values\n",
    "sf.head(2)\n",
    "df.head(2)\n",
    "\n",
    "df.shape\n",
    "\n",
    "data2 = {'a':pd.Series([1,2,3]), 'b' : pd.Series([2,3,4])}\n",
    "df2 = pd.DataFrame(data2)\n",
    "df2\n",
    "df2.shape\n",
    "df2.dtypes\n",
    "df2.ndim"
   ]
  },
  {
   "cell_type": "code",
   "execution_count": null,
   "metadata": {},
   "outputs": [],
   "source": []
  }
 ],
 "metadata": {
  "language_info": {
   "codemirror_mode": {
    "name": "ipython",
    "version": 3
   },
   "file_extension": ".py",
   "mimetype": "text/x-python",
   "name": "python",
   "nbconvert_exporter": "python",
   "pygments_lexer": "ipython3",
   "version": "3.7.7-candidate"
  },
  "orig_nbformat": 2,
  "kernelspec": {
   "name": "python37764bit2511d1e8ab8e4cd7a0c3996662256c55",
   "display_name": "Python 3.7.7 64-bit"
  }
 },
 "nbformat": 4,
 "nbformat_minor": 2
}