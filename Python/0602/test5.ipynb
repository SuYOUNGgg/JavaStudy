{
 "cells": [
  {
   "cell_type": "code",
   "execution_count": 16,
   "metadata": {},
   "outputs": [
    {
     "output_type": "execute_result",
     "data": {
      "text/plain": "       col1      col2      col3\n0 -0.315789  0.101828  0.392531\n1 -1.639619  0.943840  0.569218\n2  1.432610 -2.399138  1.585333\n3 -0.630843 -0.469866  0.426165\n4 -1.093800  0.117512  1.030698\n5 -2.378781  0.692810 -1.623858\n6 -0.295998  0.117042 -0.054464\n7 -0.295998  0.117042 -0.054464\n8 -0.295998  0.117042 -0.054464\n9 -0.295998  0.117042 -0.054464",
      "text/html": "<div>\n<style scoped>\n    .dataframe tbody tr th:only-of-type {\n        vertical-align: middle;\n    }\n\n    .dataframe tbody tr th {\n        vertical-align: top;\n    }\n\n    .dataframe thead th {\n        text-align: right;\n    }\n</style>\n<table border=\"1\" class=\"dataframe\">\n  <thead>\n    <tr style=\"text-align: right;\">\n      <th></th>\n      <th>col1</th>\n      <th>col2</th>\n      <th>col3</th>\n    </tr>\n  </thead>\n  <tbody>\n    <tr>\n      <th>0</th>\n      <td>-0.315789</td>\n      <td>0.101828</td>\n      <td>0.392531</td>\n    </tr>\n    <tr>\n      <th>1</th>\n      <td>-1.639619</td>\n      <td>0.943840</td>\n      <td>0.569218</td>\n    </tr>\n    <tr>\n      <th>2</th>\n      <td>1.432610</td>\n      <td>-2.399138</td>\n      <td>1.585333</td>\n    </tr>\n    <tr>\n      <th>3</th>\n      <td>-0.630843</td>\n      <td>-0.469866</td>\n      <td>0.426165</td>\n    </tr>\n    <tr>\n      <th>4</th>\n      <td>-1.093800</td>\n      <td>0.117512</td>\n      <td>1.030698</td>\n    </tr>\n    <tr>\n      <th>5</th>\n      <td>-2.378781</td>\n      <td>0.692810</td>\n      <td>-1.623858</td>\n    </tr>\n    <tr>\n      <th>6</th>\n      <td>-0.295998</td>\n      <td>0.117042</td>\n      <td>-0.054464</td>\n    </tr>\n    <tr>\n      <th>7</th>\n      <td>-0.295998</td>\n      <td>0.117042</td>\n      <td>-0.054464</td>\n    </tr>\n    <tr>\n      <th>8</th>\n      <td>-0.295998</td>\n      <td>0.117042</td>\n      <td>-0.054464</td>\n    </tr>\n    <tr>\n      <th>9</th>\n      <td>-0.295998</td>\n      <td>0.117042</td>\n      <td>-0.054464</td>\n    </tr>\n  </tbody>\n</table>\n</div>"
     },
     "metadata": {},
     "execution_count": 16
    }
   ],
   "source": [
    "import numpy as np\n",
    "import pandas as pd\n",
    "\n",
    "data= {'name':pd.Series(['강감찬','이순신','홍길동']),\n",
    "        'age':pd.Series([20,30,40]),\n",
    "        'salary':pd.Series([2000,3000,4000])}\n",
    "\n",
    "df = pd.DataFrame(data)\n",
    "df.shape\n",
    "df.ndim\n",
    "df.sum(1)\n",
    "df.mean()\n",
    "df.std()\n",
    "df.min()\n",
    "df.describe()\n",
    "\n",
    "\n",
    "data2 = {'name':pd.Series(['강감찬','이순신','홍길동','강감찬','이순신','홍길동','강감찬','이순신','홍길동']),\n",
    "        'age': pd.Series([20,30,40,50,60,70,80,90]),\n",
    "        'salary': pd.Series([2000,30000,4000,5000,600,7000,8000,9000])}\n",
    "\n",
    "df2 = pd.DataFrame(data2)\n",
    "df2\n",
    "df3 = df2.reindex(index=[0,2,5],columns=['name','salary','grade'])\n",
    "df3\n",
    "\n",
    "df4 = pd.DataFrame(np.random.randn(10,3), columns=['col1','col2','col3']) #10행 3열의 표준정규분포 랜덤으로 뽑기\n",
    "df5 = pd.DataFrame(np.random.randn(7,3), columns=['col1','col2','col3'])\n",
    "df5.reindex_like(df4,method =\"ffill\") #null값을 채우는 것"
   ]
  },
  {
   "cell_type": "code",
   "execution_count": 25,
   "metadata": {
    "tags": [
     "outputPrepend"
    ]
   },
   "outputs": [
    {
     "output_type": "execute_result",
     "data": {
      "text/plain": "7.639999999999999"
     },
     "metadata": {},
     "execution_count": 25
    }
   ],
   "source": [
    "import requests\n",
    "import numpy as np\n",
    "import pandas as pd\n",
    "from bs4 import BeautifulSoup\n",
    "\n",
    "res = requests.get(\"http://ticket2.movie.daum.net/Movie/MovieRankList.aspx\")\n",
    "soup = BeautifulSoup(res.content, 'lxml')\n",
    "box = soup.find_all('div',class_=\"desc_boxthumb\")\n",
    "\n",
    "data = []\n",
    "for movie in box:\n",
    "    title, ranking = movie.find('strong',class_ =\"tit_join\"), movie.find('em',class_=\"emph_grade\")\n",
    "    movie, grade = title.get_text().strip(), ranking.get_text().strip()\n",
    "    data.append([movie, grade])\n",
    "\n",
    "df = pd.DataFrame(data, columns=['title','rating'])\n",
    "df['rating'] =df['rating'].astype(float)\n",
    "df.dtypes\n",
    "df['rating'].mean()"
   ]
  },
  {
   "cell_type": "code",
   "execution_count": 13,
   "metadata": {},
   "outputs": [
    {
     "output_type": "execute_result",
     "data": {
      "text/plain": "   time        artist  year\n0  4:22         2 Pac  2000\n1  3:15       2Ge+her  2000\n2  3:53  3 Doors Down  2000",
      "text/html": "<div>\n<style scoped>\n    .dataframe tbody tr th:only-of-type {\n        vertical-align: middle;\n    }\n\n    .dataframe tbody tr th {\n        vertical-align: top;\n    }\n\n    .dataframe thead th {\n        text-align: right;\n    }\n</style>\n<table border=\"1\" class=\"dataframe\">\n  <thead>\n    <tr style=\"text-align: right;\">\n      <th></th>\n      <th>time</th>\n      <th>artist</th>\n      <th>year</th>\n    </tr>\n  </thead>\n  <tbody>\n    <tr>\n      <th>0</th>\n      <td>4:22</td>\n      <td>2 Pac</td>\n      <td>2000</td>\n    </tr>\n    <tr>\n      <th>1</th>\n      <td>3:15</td>\n      <td>2Ge+her</td>\n      <td>2000</td>\n    </tr>\n    <tr>\n      <th>2</th>\n      <td>3:53</td>\n      <td>3 Doors Down</td>\n      <td>2000</td>\n    </tr>\n  </tbody>\n</table>\n</div>"
     },
     "metadata": {},
     "execution_count": 13
    }
   ],
   "source": [
    "import pandas as pd\n",
    "df = pd.read_csv(\"./data/billboard.csv\")\n",
    "df.shape\n",
    "df.dtypes\n",
    "df.describe\n",
    "df.columns\n",
    "df2 = df.reindex(index=[0,1,2], columns = ['time','artist','year'])\n",
    "df2"
   ]
  },
  {
   "cell_type": "code",
   "execution_count": 2,
   "metadata": {},
   "outputs": [
    {
     "output_type": "execute_result",
     "data": {
      "text/plain": "          one       two      col3\n100 -1.348883 -1.333694  1.201316\n200  0.058040 -1.225532 -0.188991\n2   -0.881847 -0.993305 -1.431696\n3   -1.263967  1.310434 -0.446442\n4   -0.679237 -0.175542  0.350042\n5    0.577349  0.428337 -0.962927",
      "text/html": "<div>\n<style scoped>\n    .dataframe tbody tr th:only-of-type {\n        vertical-align: middle;\n    }\n\n    .dataframe tbody tr th {\n        vertical-align: top;\n    }\n\n    .dataframe thead th {\n        text-align: right;\n    }\n</style>\n<table border=\"1\" class=\"dataframe\">\n  <thead>\n    <tr style=\"text-align: right;\">\n      <th></th>\n      <th>one</th>\n      <th>two</th>\n      <th>col3</th>\n    </tr>\n  </thead>\n  <tbody>\n    <tr>\n      <th>100</th>\n      <td>-1.348883</td>\n      <td>-1.333694</td>\n      <td>1.201316</td>\n    </tr>\n    <tr>\n      <th>200</th>\n      <td>0.058040</td>\n      <td>-1.225532</td>\n      <td>-0.188991</td>\n    </tr>\n    <tr>\n      <th>2</th>\n      <td>-0.881847</td>\n      <td>-0.993305</td>\n      <td>-1.431696</td>\n    </tr>\n    <tr>\n      <th>3</th>\n      <td>-1.263967</td>\n      <td>1.310434</td>\n      <td>-0.446442</td>\n    </tr>\n    <tr>\n      <th>4</th>\n      <td>-0.679237</td>\n      <td>-0.175542</td>\n      <td>0.350042</td>\n    </tr>\n    <tr>\n      <th>5</th>\n      <td>0.577349</td>\n      <td>0.428337</td>\n      <td>-0.962927</td>\n    </tr>\n  </tbody>\n</table>\n</div>"
     },
     "metadata": {},
     "execution_count": 2
    }
   ],
   "source": [
    "import pandas as pd\n",
    "import numpy as np\n",
    "df3 = pd.DataFrame(np.random.randn(6,3), columns=['col1','col2','col3'])\n",
    "df4 = df3.rename(index={0:100,1:200}, columns={'col1':'one','col2':'two'})\n",
    "df4"
   ]
  },
  {
   "cell_type": "code",
   "execution_count": null,
   "metadata": {},
   "outputs": [],
   "source": []
  }
 ],
 "metadata": {
  "language_info": {
   "codemirror_mode": {
    "name": "ipython",
    "version": 3
   },
   "file_extension": ".py",
   "mimetype": "text/x-python",
   "name": "python",
   "nbconvert_exporter": "python",
   "pygments_lexer": "ipython3",
   "version": "3.7.7-candidate"
  },
  "orig_nbformat": 2,
  "kernelspec": {
   "name": "python37764bit2511d1e8ab8e4cd7a0c3996662256c55",
   "display_name": "Python 3.7.7 64-bit"
  }
 },
 "nbformat": 4,
 "nbformat_minor": 2
}